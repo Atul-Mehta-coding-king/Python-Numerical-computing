{
  "nbformat": 4,
  "nbformat_minor": 0,
  "metadata": {
    "colab": {
      "provenance": [],
      "authorship_tag": "ABX9TyOK8jVJG9a9jMLILB5I8hpC",
      "include_colab_link": true
    },
    "kernelspec": {
      "name": "python3",
      "display_name": "Python 3"
    },
    "language_info": {
      "name": "python"
    }
  },
  "cells": [
    {
      "cell_type": "markdown",
      "metadata": {
        "id": "view-in-github",
        "colab_type": "text"
      },
      "source": [
        "<a href=\"https://colab.research.google.com/github/Atul-Mehta-coding-king/Python-Numerical-computing/blob/main/BallVertical0.ipynb\" target=\"_parent\"><img src=\"https://colab.research.google.com/assets/colab-badge.svg\" alt=\"Open In Colab\"/></a>"
      ]
    },
    {
      "cell_type": "code",
      "execution_count": null,
      "metadata": {
        "id": "nVuo4ZI7183Y"
      },
      "outputs": [],
      "source": [
        "import numpy as np\n",
        "import matplotlib\n",
        "from matplotlib import pyplot as plt"
      ]
    },
    {
      "cell_type": "code",
      "source": [
        "Vo = 20\n",
        "g = 9.81\n",
        "y = 0\n",
        "t = 0\n",
        "time = []\n",
        "location = []"
      ],
      "metadata": {
        "id": "k7tXQHNT3j2u"
      },
      "execution_count": null,
      "outputs": []
    },
    {
      "cell_type": "code",
      "source": [
        "while (y>=0):\n",
        "  print('At t = ' , str(t),'Location ', y)\n",
        "  t += 0.1\n",
        "  y = (Vo*t) - ((g*(t**2))/2)\n",
        "  time.append(t)\n",
        "  location.append(y)\n",
        "\n",
        "  # time = time.append(str(t))\n",
        "  # location = \n"
      ],
      "metadata": {
        "id": "-D9QYexS3s3_",
        "outputId": "d46b559a-a571-4526-b7b6-327234cc9120",
        "colab": {
          "base_uri": "https://localhost:8080/"
        }
      },
      "execution_count": null,
      "outputs": [
        {
          "output_type": "stream",
          "name": "stdout",
          "text": [
            "At t =  0 Location  0\n",
            "At t =  0.1 Location  1.95095\n",
            "At t =  0.2 Location  3.8038\n",
            "At t =  0.30000000000000004 Location  5.55855\n",
            "At t =  0.4 Location  7.215199999999999\n",
            "At t =  0.5 Location  8.77375\n",
            "At t =  0.6 Location  10.2342\n",
            "At t =  0.7 Location  11.59655\n",
            "At t =  0.7999999999999999 Location  12.860799999999998\n",
            "At t =  0.8999999999999999 Location  14.026950000000001\n",
            "At t =  0.9999999999999999 Location  15.094999999999997\n",
            "At t =  1.0999999999999999 Location  16.064949999999996\n",
            "At t =  1.2 Location  16.936799999999998\n",
            "At t =  1.3 Location  17.710549999999998\n",
            "At t =  1.4000000000000001 Location  18.386200000000002\n",
            "At t =  1.5000000000000002 Location  18.963749999999997\n",
            "At t =  1.6000000000000003 Location  19.443200000000004\n",
            "At t =  1.7000000000000004 Location  19.82455\n",
            "At t =  1.8000000000000005 Location  20.107799999999997\n",
            "At t =  1.9000000000000006 Location  20.292950000000005\n",
            "At t =  2.0000000000000004 Location  20.38\n",
            "At t =  2.1000000000000005 Location  20.368950000000005\n",
            "At t =  2.2000000000000006 Location  20.259800000000002\n",
            "At t =  2.3000000000000007 Location  20.052549999999997\n",
            "At t =  2.400000000000001 Location  19.747199999999992\n",
            "At t =  2.500000000000001 Location  19.34374999999999\n",
            "At t =  2.600000000000001 Location  18.84219999999999\n",
            "At t =  2.700000000000001 Location  18.242549999999994\n",
            "At t =  2.800000000000001 Location  17.544799999999988\n",
            "At t =  2.9000000000000012 Location  16.748949999999994\n",
            "At t =  3.0000000000000013 Location  15.85499999999999\n",
            "At t =  3.1000000000000014 Location  14.862949999999984\n",
            "At t =  3.2000000000000015 Location  13.772799999999982\n",
            "At t =  3.3000000000000016 Location  12.584549999999972\n",
            "At t =  3.4000000000000017 Location  11.298199999999973\n",
            "At t =  3.5000000000000018 Location  9.913749999999965\n",
            "At t =  3.600000000000002 Location  8.431199999999976\n",
            "At t =  3.700000000000002 Location  6.85054999999997\n",
            "At t =  3.800000000000002 Location  5.171799999999962\n",
            "At t =  3.900000000000002 Location  3.3949499999999517\n",
            "At t =  4.000000000000002 Location  1.5199999999999534\n"
          ]
        }
      ]
    },
    {
      "cell_type": "code",
      "source": [
        "plt.plot(time,location)"
      ],
      "metadata": {
        "id": "uIptXc2a5JIp",
        "outputId": "609781d3-7307-4b7f-ac5d-cd53c46af55c",
        "colab": {
          "base_uri": "https://localhost:8080/",
          "height": 282
        }
      },
      "execution_count": null,
      "outputs": [
        {
          "output_type": "execute_result",
          "data": {
            "text/plain": [
              "[<matplotlib.lines.Line2D at 0x7fa29905bd30>]"
            ]
          },
          "metadata": {},
          "execution_count": 44
        },
        {
          "output_type": "display_data",
          "data": {
            "text/plain": [
              "<Figure size 432x288 with 1 Axes>"
            ],
            "image/png": "[encoded data removed]"
          },
          "metadata": {
            "needs_background": "light"
          }
        }
      ]
    },
    {
      "cell_type": "code",
      "source": [
        "plt.plot(time,location)\n",
        "plt.xlabel('time')\n",
        "plt.ylabel('Location')\n",
        "plt.title(\"Y vs T\")\n",
        "plt.show"
      ],
      "metadata": {
        "id": "rxJabDsi8oRg",
        "outputId": "d3ae0279-aab3-49d2-ed7c-c7b804e692ba",
        "colab": {
          "base_uri": "https://localhost:8080/",
          "height": 312
        }
      },
      "execution_count": null,
      "outputs": [
        {
          "output_type": "execute_result",
          "data": {
            "text/plain": [
              "<function matplotlib.pyplot.show(close=None, block=None)>"
            ]
          },
          "metadata": {},
          "execution_count": 45
        },
        {
          "output_type": "display_data",
          "data": {
            "text/plain": [
              "<Figure size 432x288 with 1 Axes>"
            ],
            "image/png": "[encoded data removed]"
          },
          "metadata": {
            "needs_background": "light"
          }
        }
      ]
    }
  ]
}