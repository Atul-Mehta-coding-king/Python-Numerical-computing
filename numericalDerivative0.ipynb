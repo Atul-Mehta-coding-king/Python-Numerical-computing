{
  "nbformat": 4,
  "nbformat_minor": 0,
  "metadata": {
    "colab": {
      "provenance": [],
      "authorship_tag": "ABX9TyPX1dLgKlCBW6SqR5BYzijO",
      "include_colab_link": true
    },
    "kernelspec": {
      "name": "python3",
      "display_name": "Python 3"
    },
    "language_info": {
      "name": "python"
    },
    "accelerator": "GPU",
    "gpuClass": "standard"
  },
  "cells": [
    {
      "cell_type": "markdown",
      "metadata": {
        "id": "view-in-github",
        "colab_type": "text"
      },
      "source": [
        "<a href=\"https://colab.research.google.com/github/Atul-Mehta-coding-king/Python-Numerical-computing/blob/main/numericalDerivative0.ipynb\" target=\"_parent\"><img src=\"https://colab.research.google.com/assets/colab-badge.svg\" alt=\"Open In Colab\"/></a>"
      ]
    },
    {
      "cell_type": "markdown",
      "source": [
        "Numerical Derivative truncation error relation with h tend to 0\n"
      ],
      "metadata": {
        "id": "9RM6bM7e_2Dh"
      }
    },
    {
      "cell_type": "code",
      "execution_count": 192,
      "metadata": {
        "id": "RJXOGDkf_Per"
      },
      "outputs": [],
      "source": [
        "import numpy as np\n",
        "import matplotlib\n",
        "from matplotlib import pyplot as plt"
      ]
    },
    {
      "cell_type": "markdown",
      "source": [
        "We are going to do this experiment on inverse of tan derivative\n"
      ],
      "metadata": {
        "id": "G9ky5lCNAdQu"
      }
    },
    {
      "cell_type": "code",
      "source": [
        "a = 1\n",
        "trueVal = 1/(1+a**2)\n",
        "hAll = []\n",
        "errAll = []\n",
        "hAll1 = []\n",
        "errAll1 = []\n",
        "for i in range(2,8):\n",
        "  h = 10**(-i)\n",
        "  approxVal = (np.arctan(a+h)-np.arctan(a))/h\n",
        "  err = abs(trueVal - approxVal)\n",
        "  hAll.append(h)\n",
        "  errAll.append(err)\n",
        "\n",
        "\n"
      ],
      "metadata": {
        "id": "oXl85srFAZ1U"
      },
      "execution_count": 193,
      "outputs": []
    },
    {
      "cell_type": "code",
      "source": [
        "for i in range(2,16,2):\n",
        "  h = 10**(-i)\n",
        "  approxVal = (np.arctan(a+h)-np.arctan(a))/h\n",
        "  err = abs(trueVal - approxVal)\n",
        "  hAll1.append(h)\n",
        "  errAll1.append(err)"
      ],
      "metadata": {
        "id": "VorJOpiFDsXX"
      },
      "execution_count": 194,
      "outputs": []
    },
    {
      "cell_type": "code",
      "source": [
        "hAll1\n",
        "errAll1"
      ],
      "metadata": {
        "colab": {
          "base_uri": "https://localhost:8080/"
        },
        "id": "R5Z8I4KiRP9Y",
        "outputId": "06a78e15-11dd-4259-93bc-b5f409d27e78"
      },
      "execution_count": 195,
      "outputs": [
        {
          "output_type": "execute_result",
          "data": {
            "text/plain": [
              "[0.002491666914594237,\n",
              " 2.4999166125638794e-05,\n",
              " 2.500633584645584e-07,\n",
              " 3.038735485461075e-09,\n",
              " 4.137018549954519e-08,\n",
              " 4.445029117050581e-05,\n",
              " 0.0003996389186795568]"
            ]
          },
          "metadata": {},
          "execution_count": 195
        }
      ]
    },
    {
      "cell_type": "code",
      "source": [
        "plt.plot(hAll , errAll)\n",
        "plt.xlabel(\"Value of h\")\n",
        "plt.ylabel(\"Error\")\n",
        "plt.title(\"Error Vs h\")\n",
        "plt.xscale(\"log\")\n",
        "plt.yscale(\"log\")\n",
        "plt.xlim([10**(-14), 0.001])"
      ],
      "metadata": {
        "colab": {
          "base_uri": "https://localhost:8080/",
          "height": 316
        },
        "id": "llIBBmeBCMhg",
        "outputId": "c59b563d-d04e-4bc3-f205-1c26aac2eb7d"
      },
      "execution_count": 196,
      "outputs": [
        {
          "output_type": "execute_result",
          "data": {
            "text/plain": [
              "(1e-14, 0.001)"
            ]
          },
          "metadata": {},
          "execution_count": 196
        },
        {
          "output_type": "display_data",
          "data": {
            "text/plain": [
              "<Figure size 432x288 with 1 Axes>"
            ],
            "image/png": "[encoded data removed]"
          },
          "metadata": {
            "needs_background": "light"
          }
        }
      ]
    },
    {
      "cell_type": "code",
      "source": [
        "plt.plot(hAll1 , errAll1)\n",
        "plt.xlabel(\"Value of h\")\n",
        "plt.ylabel(\"Error\")\n",
        "plt.title(\"Error Vs h\")\n",
        "plt.xscale(\"log\")\n",
        "plt.yscale(\"log\")\n",
        "plt.xlim([10**(-14), 0.001])"
      ],
      "metadata": {
        "colab": {
          "base_uri": "https://localhost:8080/",
          "height": 316
        },
        "id": "L3OSgAFKQkNr",
        "outputId": "5e9e108f-eaf8-410e-af1c-13c4e7341cf6"
      },
      "execution_count": 197,
      "outputs": [
        {
          "output_type": "execute_result",
          "data": {
            "text/plain": [
              "(1e-14, 0.001)"
            ]
          },
          "metadata": {},
          "execution_count": 197
        },
        {
          "output_type": "display_data",
          "data": {
            "text/plain": [
              "<Figure size 432x288 with 1 Axes>"
            ],
            "image/png": "[encoded data removed]"
          },
          "metadata": {
            "needs_background": "light"
          }
        }
      ]
    }
  ]
}