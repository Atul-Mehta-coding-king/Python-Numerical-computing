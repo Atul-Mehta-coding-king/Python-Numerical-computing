{
  "nbformat": 4,
  "nbformat_minor": 0,
  "metadata": {
    "colab": {
      "provenance": [],
      "authorship_tag": "ABX9TyM7bkPQNTWBRbuv4Ab8d4Xg",
      "include_colab_link": true
    },
    "kernelspec": {
      "name": "python3",
      "display_name": "Python 3"
    },
    "language_info": {
      "name": "python"
    },
    "accelerator": "GPU",
    "gpuClass": "standard"
  },
  "cells": [
    {
      "cell_type": "markdown",
      "metadata": {
        "id": "view-in-github",
        "colab_type": "text"
      },
      "source": [
        "<a href=\"https://colab.research.google.com/github/Atul-Mehta-coding-king/Python-Numerical-computing/blob/main/numericalDerivative0.ipynb\" target=\"_parent\"><img src=\"https://colab.research.google.com/assets/colab-badge.svg\" alt=\"Open In Colab\"/></a>"
      ]
    },
    {
      "cell_type": "markdown",
      "source": [
        "Numerical Derivative truncation error relation with h tend to 0\n"
      ],
      "metadata": {
        "id": "9RM6bM7e_2Dh"
      }
    },
    {
      "cell_type": "code",
      "execution_count": 117,
      "metadata": {
        "id": "RJXOGDkf_Per"
      },
      "outputs": [],
      "source": [
        "import numpy as np\n",
        "import matplotlib\n",
        "from matplotlib import pyplot as plt"
      ]
    },
    {
      "cell_type": "markdown",
      "source": [
        "We are going to do this experiment on inverse of tan derivative\n"
      ],
      "metadata": {
        "id": "G9ky5lCNAdQu"
      }
    },
    {
      "cell_type": "code",
      "source": [
        "a = 1\n",
        "trueVal = 1/(1+a**2)\n",
        "hAll = []\n",
        "errAll = []\n",
        "hAll1 = []\n",
        "errAll1 = []\n",
        "for i in range(2,8):\n",
        "  h = 10**(-i)\n",
        "  approxVal = (np.arctan(a+h)-np.arctan(a))/h\n",
        "  err = abs(trueVal - approxVal)\n",
        "  hAll.append(h)\n",
        "  errAll.append(err)\n",
        "\n",
        "\n"
      ],
      "metadata": {
        "id": "oXl85srFAZ1U"
      },
      "execution_count": 122,
      "outputs": []
    },
    {
      "cell_type": "code",
      "source": [
        "for i in range(2,14):\n",
        "  h = 10**(-i)\n",
        "  approxVal = (np.arctan(a+h)-np.arctan(a))/h\n",
        "  err = abs(trueVal - approxVal)\n",
        "  if i % 2 == 0:\n",
        "    hAll1.append(h)\n",
        "    errAll1.append(err)"
      ],
      "metadata": {
        "id": "VorJOpiFDsXX"
      },
      "execution_count": 123,
      "outputs": []
    },
    {
      "cell_type": "code",
      "source": [
        "plt.plot([hAll,errAll],[hAll1,errAll1])\n",
        "# plt.plot(hAll1,errAll1)\n",
        "plt.xlabel(\"Value of h\")\n",
        "plt.ylabel(\"Error\")\n",
        "plt.title(\"Error Vs h\")\n",
        "plt.legend(['Without roundoff error','with roundoff error'])\n"
      ],
      "metadata": {
        "colab": {
          "base_uri": "https://localhost:8080/",
          "height": 312
        },
        "id": "llIBBmeBCMhg",
        "outputId": "d53e018c-2fb0-4ee5-df2b-7719522c717f"
      },
      "execution_count": 124,
      "outputs": [
        {
          "output_type": "execute_result",
          "data": {
            "text/plain": [
              "<matplotlib.legend.Legend at 0x7ff0ca563a00>"
            ]
          },
          "metadata": {},
          "execution_count": 124
        },
        {
          "output_type": "display_data",
          "data": {
            "text/plain": [
              "<Figure size 432x288 with 1 Axes>"
            ],
            "image/png": "[encoded data removed]"
          },
          "metadata": {
            "needs_background": "light"
          }
        }
      ]
    }
  ]
}